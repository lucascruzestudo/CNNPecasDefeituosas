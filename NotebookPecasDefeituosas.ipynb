{
  "cells": [
    {
      "cell_type": "markdown",
      "metadata": {
        "id": "g55smjb9SrxI"
      },
      "source": [
        "# 1. Dependencias e setup"
      ]
    },
    {
      "cell_type": "code",
      "execution_count": null,
      "metadata": {
        "colab": {
          "base_uri": "https://localhost:8080/"
        },
        "id": "ezz-yG3ySrxK",
        "outputId": "daa3b33f-742f-4821-977a-daa47837c049",
        "tags": []
      },
      "outputs": [],
      "source": [
        "pip install tensorflow opencv-python matplotlib"
      ]
    },
    {
      "cell_type": "code",
      "execution_count": null,
      "metadata": {
        "id": "Lyv2aaroSrxN"
      },
      "outputs": [],
      "source": [
        "import tensorflow as tf\n",
        "import os"
      ]
    },
    {
      "cell_type": "code",
      "execution_count": null,
      "metadata": {
        "id": "W1LH1U--SrxN"
      },
      "outputs": [],
      "source": [
        "# Prevenção de erros OUT OF MEMORY\n",
        "gpus = tf.config.experimental.list_physical_devices('GPU')\n",
        "for gpu in gpus:\n",
        "    tf.config.experimental.set_memory_growth(gpu, True)"
      ]
    },
    {
      "cell_type": "markdown",
      "metadata": {
        "id": "6-j2VoeqSrxO"
      },
      "source": [
        "# 2. Remover imagens incompatíveis"
      ]
    },
    {
      "cell_type": "code",
      "execution_count": null,
      "metadata": {
        "id": "7KCkdYGLSrxO"
      },
      "outputs": [],
      "source": [
        "import cv2\n",
        "import imghdr\n",
        "data_dir = 'data'\n",
        "os.listdir(data_dir)"
      ]
    },
    {
      "cell_type": "code",
      "execution_count": null,
      "metadata": {
        "id": "F33cLqGcSrxO"
      },
      "outputs": [],
      "source": [
        "image_exts = ['jpeg'] # extensões de imagem a serem preservadas"
      ]
    },
    {
      "cell_type": "code",
      "execution_count": null,
      "metadata": {
        "id": "ztQlIoXiSrxO",
        "tags": []
      },
      "outputs": [],
      "source": [
        "for image_class in os.listdir(data_dir):\n",
        "    for image in os.listdir(os.path.join(data_dir, image_class)):\n",
        "        image_path = os.path.join(data_dir, image_class, image)\n",
        "        try:\n",
        "            img = cv2.imread(image_path)\n",
        "            tip = imghdr.what(image_path)\n",
        "            if tip not in image_exts:\n",
        "                print('Image not in ext list {}'.format(image_path))\n",
        "                os.remove(image_path)\n",
        "        except Exception as e:\n",
        "            print('Issue with image {}'.format(image_path))\n",
        "            # os.remove(image_path)"
      ]
    },
    {
      "cell_type": "markdown",
      "metadata": {
        "id": "E2G2qqiQSrxP"
      },
      "source": [
        "# 3. Carregar dados"
      ]
    },
    {
      "cell_type": "code",
      "execution_count": null,
      "metadata": {
        "id": "o2DbRmcASrxP"
      },
      "outputs": [],
      "source": [
        "import numpy as np\n",
        "from matplotlib import pyplot as plt"
      ]
    },
    {
      "cell_type": "code",
      "execution_count": null,
      "metadata": {
        "colab": {
          "base_uri": "https://localhost:8080/"
        },
        "id": "R4jyhwnGSrxP",
        "outputId": "ba9a3ae6-d850-42bf-bcc1-2e8376baae72"
      },
      "outputs": [],
      "source": [
        "data = tf.keras.utils.image_dataset_from_directory('data')  # Cria um conjunto de dados de imagens a partir do diretório 'data'"
      ]
    },
    {
      "cell_type": "code",
      "execution_count": null,
      "metadata": {
        "colab": {
          "base_uri": "https://localhost:8080/"
        },
        "id": "Eosq_KyHSrxP",
        "outputId": "b4b4a869-d2db-42d8-a4e7-640984772cd9"
      },
      "outputs": [],
      "source": [
        "data"
      ]
    },
    {
      "cell_type": "code",
      "execution_count": null,
      "metadata": {
        "id": "K0jyUcuQSrxQ"
      },
      "outputs": [],
      "source": [
        "iterador_dataset = data.as_numpy_iterator() # Transformando dataset em objeto iteravel"
      ]
    },
    {
      "cell_type": "code",
      "execution_count": null,
      "metadata": {
        "id": "4TlUXJF0SrxQ",
        "tags": []
      },
      "outputs": [],
      "source": [
        "batch = iterador_dataset.next() # Obter próximo batch do iterador"
      ]
    },
    {
      "cell_type": "code",
      "execution_count": null,
      "metadata": {
        "colab": {
          "base_uri": "https://localhost:8080/"
        },
        "id": "FFvbODwbzZGw",
        "outputId": "a30dfef3-7217-440c-85a1-1a862b901cc0"
      },
      "outputs": [],
      "source": [
        "batch # Grupo de imagens, 32 imagens por grupo"
      ]
    },
    {
      "cell_type": "code",
      "execution_count": null,
      "metadata": {
        "colab": {
          "base_uri": "https://localhost:8080/"
        },
        "id": "dL9WokrfSrxQ",
        "outputId": "81f5894b-6474-42ca-eece-9fe6d1bcf304"
      },
      "outputs": [],
      "source": [
        "batch[0].shape # Tamanho do batch, dimensões das imagens e seus canais de cores"
      ]
    },
    {
      "cell_type": "code",
      "execution_count": null,
      "metadata": {
        "colab": {
          "base_uri": "https://localhost:8080/"
        },
        "id": "bacUB-WXSrxR",
        "outputId": "b380d790-ba48-4301-a1f5-28a3b38ccbf2"
      },
      "outputs": [],
      "source": [
        "batch[1] # Resultados fornecidos das imagens. 0 = Defeito, 1 = Perfeito"
      ]
    },
    {
      "cell_type": "code",
      "execution_count": null,
      "metadata": {
        "colab": {
          "base_uri": "https://localhost:8080/",
          "height": 338
        },
        "id": "7txghfqvSrxR",
        "outputId": "9d7a8302-625d-4e91-d87f-4b0092efbd5e",
        "tags": []
      },
      "outputs": [],
      "source": [
        "figura, eixo = plt.subplots(ncols=4, figsize=(20,20)) # Criando uma figura e um conjunto de eixos\n",
        "for indice, img in enumerate(batch[0][:4]): # Iterando sobre 4 imagens no lote\n",
        "    eixo[indice].imshow(img.astype(int)) # Mostrando a imagem no eixo atual\n",
        "    eixo[indice].title.set_text(batch[1][indice]) # Definindo o texto do título do eixo com o rótulo correspondente\n"
      ]
    },
    {
      "cell_type": "markdown",
      "metadata": {
        "id": "WwWk7r8bSrxR"
      },
      "source": [
        "# 4. Processando imagens"
      ]
    },
    {
      "cell_type": "code",
      "execution_count": null,
      "metadata": {
        "id": "rQEu9dcjSrxR"
      },
      "outputs": [],
      "source": [
        "data = data.map(lambda x,y: (x/255, y)) # Normalizando os valores dos pixels para numeros entre entre 0 e 1"
      ]
    },
    {
      "cell_type": "code",
      "execution_count": null,
      "metadata": {
        "id": "crVK4OaGSrxR"
      },
      "outputs": [],
      "source": [
        "iterador_normalizados = data.as_numpy_iterator() # Conversão de dataset normalizado para iterável "
      ]
    },
    {
      "cell_type": "code",
      "execution_count": null,
      "metadata": {
        "id": "XxewP8laSrxR"
      },
      "outputs": [],
      "source": [
        "batch = iterador_normalizados.next() # Obter próximo batch do iterável do dataset normalizado"
      ]
    },
    {
      "cell_type": "code",
      "execution_count": null,
      "metadata": {
        "colab": {
          "base_uri": "https://localhost:8080/"
        },
        "id": "r7wtSQJxw3-R",
        "outputId": "dc7d1a01-644a-4b27-b5a1-871515926781"
      },
      "outputs": [],
      "source": [
        "batch # Mostrando imagens com valores de canais de cores normalizados."
      ]
    },
    {
      "cell_type": "markdown",
      "metadata": {
        "id": "CR0CpMJkSrxS"
      },
      "source": [
        "# 5. Separar dados em grupo de treino, validação e teste"
      ]
    },
    {
      "cell_type": "code",
      "execution_count": null,
      "metadata": {
        "id": "VsBg8biISrxS",
        "outputId": "1905dcd3-932f-401a-f2a4-94ed474314ec"
      },
      "outputs": [],
      "source": [
        "len(data)"
      ]
    },
    {
      "cell_type": "code",
      "execution_count": null,
      "metadata": {
        "id": "J-X6uF7pSrxS"
      },
      "outputs": [],
      "source": [
        "train_size = int(len(data)*.7) #tamanho da divisão de treinamento (70% dos dados)\n",
        "val_size = int(len(data)*.2) #tamanho da divisão de validação (20% dos dados)\n",
        "test_size = int(len(data)*.1) #tamanho da divisão de teste (10% dos dados)\n"
      ]
    },
    {
      "cell_type": "code",
      "execution_count": null,
      "metadata": {
        "colab": {
          "base_uri": "https://localhost:8080/"
        },
        "id": "2oXbOwrHSrxS",
        "outputId": "884ae7d1-a23d-4eed-91ae-e2ba31c9b0e2"
      },
      "outputs": [],
      "source": [
        "test_size"
      ]
    },
    {
      "cell_type": "code",
      "execution_count": null,
      "metadata": {
        "id": "6z1lYqcsSrxS"
      },
      "outputs": [],
      "source": [
        "train = data.take(train_size) #conjunto de treinamento usando os primeiros exemplos do conjunto de dados original\n",
        "val = data.skip(train_size).take(val_size) # conjunto de validação usando os exemplos após o conjunto de treinamento e pegando os próximos 'val_size' exemplos\n",
        "test = data.skip(train_size+val_size).take(test_size) #conjunto de teste usando os exemplos após os conjuntos de treinamento e validação e pegando os próximos exemplos\n",
        "\n"
      ]
    },
    {
      "cell_type": "markdown",
      "metadata": {
        "id": "7GpLsb5BSrxT"
      },
      "source": [
        "# 6. Modelo de Deep Learning"
      ]
    },
    {
      "cell_type": "code",
      "execution_count": null,
      "metadata": {
        "colab": {
          "base_uri": "https://localhost:8080/"
        },
        "id": "op169-gpSrxT",
        "outputId": "637309bb-ee84-4b8d-bc71-6f3fe76eab36"
      },
      "outputs": [],
      "source": [
        "train"
      ]
    },
    {
      "cell_type": "code",
      "execution_count": null,
      "metadata": {
        "id": "yN2WKQy2SrxT"
      },
      "outputs": [],
      "source": [
        "from tensorflow.python.keras.models import Sequential\n",
        "from tensorflow.python.keras.layers import Conv2D, MaxPooling2D, Dense, Flatten, Dropout\n",
        "from tensorflow.python.keras.activations import sigmoid"
      ]
    },
    {
      "cell_type": "code",
      "execution_count": null,
      "metadata": {
        "id": "aaG6TktOSrxT"
      },
      "outputs": [],
      "source": [
        "model = Sequential()"
      ]
    },
    {
      "cell_type": "code",
      "execution_count": null,
      "metadata": {
        "id": "v0SPNXvASrxf"
      },
      "outputs": [],
      "source": [
        "model.add(Conv2D(16, (3,3), 1, activation='relu', input_shape=(256,256,3)))  # extrair características iniciais da imagem\n",
        "model.add(MaxPooling2D()) # reduzir a dimensionalidade e preservar características mais importantes\n",
        "model.add(Conv2D(32, (3,3), 1, activation='relu')) #  capturar características mais complexas\n",
        "model.add(MaxPooling2D()) # continuar reduzindo a dimensionalidade\n",
        "model.add(Conv2D(16, (3,3), 1, activation='relu'))#  refinamento final das características\n",
        "model.add(MaxPooling2D())   # redução final da dimensionalidade\n",
        "model.add(Flatten()) # Transformar a saída da camada convolucional em um vetor unidimensional\n",
        "model.add(Dense(256, activation='relu')) # Camada densa (totalmente conectada) para aprendizado de padrões complexos\n",
        "model.add(Dense(1, activation='sigmoid')) # Camada densa com ativação sigmoidal para classificação binária"
      ]
    },
    {
      "cell_type": "code",
      "execution_count": null,
      "metadata": {
        "id": "goKjPeR_Srxf"
      },
      "outputs": [],
      "source": [
        "model.compile('adam', loss=tf.losses.BinaryCrossentropy(), metrics=['accuracy'])\n",
        "\n",
        "# 'adam' é o otimizador que ajusta os pesos do modelo para melhorar o desempenho.\n",
        "\n",
        "# A função 'BinaryCrossentropy()' é usada para calcular o quão erradas estão as previsões do modelo\n",
        "# quando temos apenas duas opções possíveis, como \"sim\" ou \"não\". Ela compara as previsões do modelo\n",
        "# com as respostas reais e mede o quão diferente elas estão. Isso ajuda o modelo a aprender a acertar mais.\n",
        "\n",
        "# 'accuracy' é a métrica que será monitorada durante o treinamento, medindo a precisão das previsões do modelo."
      ]
    },
    {
      "cell_type": "code",
      "execution_count": null,
      "metadata": {
        "colab": {
          "base_uri": "https://localhost:8080/"
        },
        "id": "QAMimN05Srxf",
        "outputId": "72d5ded8-8467-4090-bb8d-86792c2967ca",
        "tags": []
      },
      "outputs": [],
      "source": [
        "model.summary()\n",
        "\n",
        "# A função model.summary() é usada para exibir um resumo detalhado da arquitetura do modelo de rede neural.\n",
        "# Ele mostra informações sobre cada camada da rede, incluindo o nome da camada, o tipo de camada,\n",
        "# o formato de saída (shape) da camada e o número total de parâmetros treináveis na rede."
      ]
    },
    {
      "cell_type": "markdown",
      "metadata": {
        "id": "xGYS60ZbSrxg"
      },
      "source": [
        "# 7. Treinando"
      ]
    },
    {
      "cell_type": "code",
      "execution_count": null,
      "metadata": {
        "id": "1F7eHlGwSrxg"
      },
      "outputs": [],
      "source": [
        "logdir='logs'"
      ]
    },
    {
      "cell_type": "code",
      "execution_count": null,
      "metadata": {
        "id": "-X01lBZBSrxg"
      },
      "outputs": [],
      "source": [
        "tensorboard_callback = tf.keras.callbacks.TensorBoard(log_dir=logdir)"
      ]
    },
    {
      "cell_type": "code",
      "execution_count": null,
      "metadata": {
        "colab": {
          "base_uri": "https://localhost:8080/"
        },
        "id": "k7CVW8Z8Srxg",
        "outputId": "ec277490-a9fc-41cb-86d0-1eb12c475fd5",
        "scrolled": true,
        "tags": []
      },
      "outputs": [],
      "source": [
        "hist = model.fit(train, epochs=20, validation_data=val, callbacks=[tensorboard_callback])\n",
        "\n",
        "# A função model.fit() é usada para treinar o modelo de rede neural.\n",
        "# 'train' são os dados de treinamento que contêm exemplos e rótulos para ensinar o modelo.\n",
        "# 'epochs' define quantas vezes o modelo verá todo o conjunto de treinamento durante o treinamento.\n",
        "# 'validation_data' é usado para avaliar o modelo em um conjunto de validação durante o treinamento,\n",
        "# para entender como ele está se saindo em dados que não foram usados no treinamento.\n",
        "# 'callbacks' permite adicionar funcionalidades extras durante o treinamento, como o uso do TensorBoard\n",
        "# para visualizar o progresso do treinamento em tempo real."
      ]
    },
    {
      "cell_type": "markdown",
      "metadata": {
        "id": "yhF3-cwGSrxg"
      },
      "source": [
        "# 8. Mostrar resultados do treinamento"
      ]
    },
    {
      "cell_type": "code",
      "execution_count": null,
      "metadata": {
        "colab": {
          "base_uri": "https://localhost:8080/",
          "height": 478
        },
        "id": "Ov3dTpK7Srxh",
        "outputId": "0636ca5e-1a0d-4e0c-96f1-147a80030c22"
      },
      "outputs": [],
      "source": [
        "fig = plt.figure()\n",
        "plt.plot(hist.history['loss'], color='teal', label='loss')  # Plota a curva de perda do treinamento ('loss') em cor teal\n",
        "plt.plot(hist.history['val_loss'], color='orange', label='val_loss')  # Plota a curva de perda da validação ('val_loss') em cor laranja\n",
        "fig.suptitle('Loss', fontsize=20)  # Adiciona um título à figura para indicar a curva de perda\n",
        "plt.legend(loc=\"upper left\")  # Adiciona uma legenda na parte superior esquerda\n",
        "plt.show()  # Exibe o gráfico\n"
      ]
    },
    {
      "cell_type": "code",
      "execution_count": null,
      "metadata": {
        "colab": {
          "base_uri": "https://localhost:8080/",
          "height": 478
        },
        "id": "fo_yW6XnSrxh",
        "outputId": "1ec39261-ee83-42bc-9d34-e88e5f61b069"
      },
      "outputs": [],
      "source": [
        "fig = plt.figure()\n",
        "plt.plot(hist.history['accuracy'], color='teal', label='accuracy')  # Plota a curva de precisão do treinamento ('accuracy') em cor teal\n",
        "plt.plot(hist.history['val_accuracy'], color='orange', label='val_accuracy')  # Plota a curva de precisão da validação ('val_accuracy') em cor laranja\n",
        "fig.suptitle('Accuracy', fontsize=20)  # Adiciona um título à figura para indicar a curva de precisão\n",
        "plt.legend(loc=\"upper left\")  # Adiciona uma legenda na parte superior esquerda\n",
        "plt.show()  # Exibe o gráfico\n"
      ]
    },
    {
      "cell_type": "markdown",
      "metadata": {
        "id": "fS3f6GpdSrxi"
      },
      "source": [
        "# 9. Avaliar"
      ]
    },
    {
      "cell_type": "code",
      "execution_count": null,
      "metadata": {
        "id": "GSKezJoiSrxj"
      },
      "outputs": [],
      "source": [
        "from tensorflow.python.keras.metrics import Precision, Recall, BinaryAccuracy"
      ]
    },
    {
      "cell_type": "code",
      "execution_count": null,
      "metadata": {
        "id": "IPwtln7XSrxj"
      },
      "outputs": [],
      "source": [
        "pre = Precision()  # Cria um objeto de métrica para calcular a precisão\n",
        "re = Recall()  # Cria um objeto de métrica para calcular o recall\n",
        "acc = BinaryAccuracy()  # Cria um objeto de métrica para calcular a acurácia binária"
      ]
    },
    {
      "cell_type": "code",
      "execution_count": null,
      "metadata": {
        "colab": {
          "base_uri": "https://localhost:8080/"
        },
        "id": "EHhXxGAiSrxj",
        "outputId": "b71a3f6c-7aaa-47ef-e1c6-b98d1045f510"
      },
      "outputs": [],
      "source": [
        "len(test)"
      ]
    },
    {
      "cell_type": "code",
      "execution_count": null,
      "metadata": {
        "colab": {
          "base_uri": "https://localhost:8080/"
        },
        "id": "lqjhnd8PSrxk",
        "outputId": "b5db6c6c-a4f6-4b43-d895-a03437c33c27"
      },
      "outputs": [],
      "source": [
        "# Loop pelos batches dos dados de teste.\n",
        "for batch in test.as_numpy_iterator():\n",
        "    item, label = batch # Obtém um exemplo e seu rótulo do batch\n",
        "    resultado = loaded_model.predict(item) # Faz uma previsão usando o modelo carregado\n",
        "    pre.update_state(label, resultado) # Atualiza a métrica de precisão com os resultados da previsão\n",
        "    re.update_state(label, resultado) # Atualiza a métrica de recall com os resultados da previsão\n",
        "    acc.update_state(label, resultado) # Atualiza a métrica de acurácia binária com os resultados da previsão"
      ]
    },
    {
      "cell_type": "code",
      "execution_count": null,
      "metadata": {
        "colab": {
          "base_uri": "https://localhost:8080/"
        },
        "id": "MEiLypoKSrxk",
        "outputId": "b7f08a85-0dea-4368-8d17-926f4a759483"
      },
      "outputs": [],
      "source": [
        "print(pre.result(), re.result(), acc.result()) # Imprime os resultados das métricas calculadas."
      ]
    },
    {
      "cell_type": "markdown",
      "metadata": {
        "id": "BCphCvQeSrxk"
      },
      "source": [
        "# 10. Testar modelo"
      ]
    },
    {
      "cell_type": "code",
      "execution_count": null,
      "metadata": {
        "id": "2EUH5oqdSrxk"
      },
      "outputs": [],
      "source": [
        "import cv2, random, os\n",
        "import numpy as np\n",
        "import tensorflow as tf\n",
        "from matplotlib import pyplot as plt\n",
        "\n",
        "from tensorflow.python.keras.models import load_model\n",
        "modelo_carregado = load_model(\"models/pecasdefeituosas.keras\") # Carrega o modelo previamente treinado a partir do arquivo"
      ]
    },
    {
      "cell_type": "code",
      "execution_count": null,
      "metadata": {},
      "outputs": [],
      "source": [
        "diretorio_sem_defeito = 'test/okay/'\n",
        "diretorio_com_defeito = 'test/defect/'\n",
        "imagens_sem_defeito = os.listdir(diretorio_sem_defeito)\n",
        "imagens_com_defeito = os.listdir(diretorio_com_defeito)"
      ]
    },
    {
      "cell_type": "markdown",
      "metadata": {},
      "source": [
        "### Escolher imagem aleatória (sem e com defeito)"
      ]
    },
    {
      "cell_type": "code",
      "execution_count": null,
      "metadata": {},
      "outputs": [],
      "source": [
        "img = random.choice(imagens_sem_defeito)\n",
        "img = cv2.imread(os.path.join(diretorio_sem_defeito, img))\n",
        "\n",
        "#img = random.choice(imagens_com_defeito)\n",
        "#img = cv2.imread(os.path.join(diretorio_com_defeito, img))"
      ]
    },
    {
      "cell_type": "markdown",
      "metadata": {},
      "source": [
        "### Exibindo imagem selecionada aleatóriamente"
      ]
    },
    {
      "cell_type": "code",
      "execution_count": null,
      "metadata": {
        "colab": {
          "base_uri": "https://localhost:8080/",
          "height": 435
        },
        "id": "AcHz8Z9HSrxl",
        "outputId": "ae759e66-1893-49af-91bb-62ba98ad4d42"
      },
      "outputs": [],
      "source": [
        "img = tf.image.resize(img, (256,256)) #trocar tamanho para o tamanho adequado\n",
        "plt.imshow(img.numpy().astype(int))\n",
        "plt.show()\n",
        "plt.show()"
      ]
    },
    {
      "cell_type": "markdown",
      "metadata": {},
      "source": [
        "### Normalizando e prevendo com base na imagem selecionada aleatóriamente"
      ]
    },
    {
      "cell_type": "code",
      "execution_count": null,
      "metadata": {
        "colab": {
          "base_uri": "https://localhost:8080/"
        },
        "id": "va4GrrmKSrxl",
        "outputId": "7270d45a-dc60-4387-ae6d-390263c04b57"
      },
      "outputs": [],
      "source": [
        "array_predicao = modelo_carregado.predict(np.expand_dims(img/255, 0))\n",
        "array_predicao"
      ]
    },
    {
      "cell_type": "markdown",
      "metadata": {},
      "source": [
        "### Tratamento de resultado e formatação"
      ]
    },
    {
      "cell_type": "code",
      "execution_count": null,
      "metadata": {
        "colab": {
          "base_uri": "https://localhost:8080/"
        },
        "id": "lUQ5h0bHtTZJ",
        "outputId": "503a75c7-cb30-4efd-ec59-d074de983d69"
      },
      "outputs": [],
      "source": [
        "lista_predicao = array_predicao.astype(float).tolist()\n",
        "valor_predicao = lista_predicao[0][0]\n",
        "valor_predicao_texto = format(valor_predicao, ',.8f') # Formata o valor de previsão para exibir com 8 casas decimais\n",
        "print(\"Valor predição sem formatação: \", valor_predicao)\n",
        "print(\"Valor predição formatado: \",valor_predicao_texto)"
      ]
    },
    {
      "cell_type": "markdown",
      "metadata": {},
      "source": [
        "### Exibição da predição"
      ]
    },
    {
      "cell_type": "code",
      "execution_count": null,
      "metadata": {
        "colab": {
          "base_uri": "https://localhost:8080/"
        },
        "id": "fpwfr_IkSrxm",
        "outputId": "d4975f2d-bdb6-4767-8767-25da4e1c3774"
      },
      "outputs": [],
      "source": [
        "if valor_predicao > 0.9:\n",
        "    print(f'Peça sem defeitos')  # Se o valor de previsão for maior que 0.9, imprime \"Peça sem defeitos\"\n",
        "else:\n",
        "    print(f'Peça com defeitos')  # Caso contrário, imprime \"Peça com defeitos\""
      ]
    },
    {
      "cell_type": "markdown",
      "metadata": {
        "id": "HiUm_t5ySrxm"
      },
      "source": [
        "# 11. Salvando modelo"
      ]
    },
    {
      "cell_type": "code",
      "execution_count": null,
      "metadata": {
        "id": "9reckvtuSrxn"
      },
      "outputs": [],
      "source": [
        "model.save('/models/pecasdefeituosas.keras')  # Salva o modelo treinado em um arquivo chamado 'pecasdefeituosas.keras'\n"
      ]
    }
  ],
  "metadata": {
    "colab": {
      "provenance": []
    },
    "kernelspec": {
      "display_name": "Python 3",
      "language": "python",
      "name": "python3"
    },
    "language_info": {
      "codemirror_mode": {
        "name": "ipython",
        "version": 3
      },
      "file_extension": ".py",
      "mimetype": "text/x-python",
      "name": "python",
      "nbconvert_exporter": "python",
      "pygments_lexer": "ipython3",
      "version": "3.11.4"
    }
  },
  "nbformat": 4,
  "nbformat_minor": 0
}
